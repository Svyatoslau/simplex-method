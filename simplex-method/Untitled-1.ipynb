{
 "metadata": {
  "language_info": {
   "codemirror_mode": {
    "name": "ipython",
    "version": 3
   },
   "file_extension": ".py",
   "mimetype": "text/x-python",
   "name": "python",
   "nbconvert_exporter": "python",
   "pygments_lexer": "ipython3",
   "version": "3.9.0"
  },
  "orig_nbformat": 2,
  "kernelspec": {
   "name": "python390jvsc74a57bd0d3ffa2c2a20aa6784766d65f6f19503504e6e67ae7ccadb4d0c7cec048e29470",
   "display_name": "Python 3.9.0 64-bit"
  },
  "metadata": {
   "interpreter": {
    "hash": "d3ffa2c2a20aa6784766d65f6f19503504e6e67ae7ccadb4d0c7cec048e29470"
   }
  }
 },
 "nbformat": 4,
 "nbformat_minor": 2,
 "cells": [
  {
   "source": [
    "<h1>Объявление переменных<h1>\n",
    "<h2>Условие:</h2>\n",
    "Количество кластеров M=3 <br>\n",
    "Количество рабочих станций N=10<br>\n",
    "В первом кластере 4 станции, во втором - 2, в третьем - 4, т.е. m0=0,<br>\n",
    "m1=4, m2=6, m3=10<br>\n",
    "Время обработки данных станциями q1=10, q2=4, q3=8, q4=6, q5=2,<br>\n",
    "q6=3, q7=8, q8=2, q9=6, q10=6<br>\n",
    "Ограничения на объём данных, обрабатываемых каждой станцией:<br>\n",
    "P1=700, P2=700, P3=700, P4=700, P5=700, P6=700, P7=700, P8=700,P9=700, P10=700<br>\n",
    "Ограничения на объём данных, обрабатываемых каждым<br>\n",
    "кластером: R1=400, R2=800, R3=600<br>\n",
    "Общий объём обрабатываемых данных: 1000 Мб<br>\n",
    "Время обработки должно совпадать (стандартные средства<br>\n",
    "Mathematica справляются с искусственными начальнымиусловиями, поэтому можно сразу решать усложнённую задачу).\n",
    "<h2>Объявление переменных:</h2>\n",
    "\n"
   ],
   "cell_type": "markdown",
   "metadata": {}
  },
  {
   "cell_type": "code",
   "execution_count": 58,
   "metadata": {},
   "outputs": [],
   "source": [
    "import numpy as np\n",
    "countClusters = 3\n",
    "countStations = 10\n",
    "stationsInClastors = np.array([4,6,10],int)\n",
    "processingTimes = np.array([10,4,8,6,2,3,8,2,6,10],float)\n",
    "stationRestrictions = np.array([700,700,700,700,700,700,700,700,700,700],float)\n",
    "totalVolume = 1000\n",
    "clastorsRestrictions = np.array([400,800,300])\n",
    "\n"
   ]
  },
  {
   "cell_type": "code",
   "execution_count": 59,
   "metadata": {},
   "outputs": [
    {
     "output_type": "stream",
     "name": "stdout",
     "text": [
      "[700. 700. 700. 700. 700. 700. 700. 700. 700. 700.]\n(10,)\n2\n"
     ]
    }
   ],
   "source": [
    "\n",
    "print(stationRestrictions)\n",
    "print(processingTimes.shape)\n",
    "if processingTimes.shape[0]==10: print(2)"
   ]
  },
  {
   "cell_type": "code",
   "execution_count": null,
   "metadata": {},
   "outputs": [],
   "source": []
  }
 ]
}